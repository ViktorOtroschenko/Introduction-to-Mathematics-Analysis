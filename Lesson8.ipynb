{
 "cells": [
  {
   "cell_type": "markdown",
   "metadata": {},
   "source": [
    "## Домашнее задание по теме «Производные функций нескольких переменных»."
   ]
  },
  {
   "cell_type": "markdown",
   "metadata": {},
   "source": [
    "### Задание №1\n",
    "Найти область определения функции\n",
    "$$z=\\sqrt{1-x^3}+\\ln{(y^2-1)}$$"
   ]
  },
  {
   "cell_type": "markdown",
   "metadata": {},
   "source": [
    "$$\n",
    "\\begin{cases}\n",
    "1 - x^3 \\geq 0 \\\\\n",
    "y^2 - 1 < 0\n",
    "\\end{cases}\n",
    "\\implies\n",
    "\\begin{cases}\n",
    "x \\in (-\\infty; 1] \\\\\n",
    "y \\in  (-\\infty; -1)\\cup(1; \\infty)\n",
    "\\end{cases}\n",
    "$$"
   ]
  },
  {
   "cell_type": "markdown",
   "metadata": {},
   "source": [
    "### Задание №2\n",
    "Найти производные 1-го порядка функции.\n",
    "$$\\displaystyle z=\\left(1+\\frac{\\ln x}{\\ln y}\\right)^{3}$$"
   ]
  },
  {
   "cell_type": "markdown",
   "metadata": {},
   "source": [
    "$\\displaystyle z'_x = 3\\left(1+\\frac{\\ln{x}}{\\ln{y}}\\right)^2\\left(1+\\frac{\\ln{x}}{\\ln{y}}\\right)'_x = 3\\left(1+\\frac{\\ln{x}}{\\ln{y}}\\right)^2\\cdot\\frac{1}{x\\ln{y}} = \\frac{3(\\ln{x}+\\ln{y})^2}{x\\ln^3 y}$\n",
    "$\\displaystyle z'_y = 3\\left(1+\\frac{\\ln{x}}{\\ln{y}}\\right)^2\\left(1+\\frac{\\ln{x}}{\\ln{y}}\\right)'_y =3\\left(1+\\frac{\\ln{x}}{\\ln{y}}\\right)^2 \\cdot \\ln x \\left(-\\frac{1}{\\ln^2 y}\\right)\\cdot (\\ln y)'_y = -3\\left(1+\\frac{\\ln{x}}{\\ln{y}}\\right)^2 \\cdot \\frac{\\ln x}{y \\ln^2 y} = -\\frac{3\\ln x (\\ln x + \\ln y)^2}{y\\ln^4 y}$"
   ]
  },
  {
   "cell_type": "markdown",
   "metadata": {},
   "source": [
    "### Задание №3\n",
    "Найти полный дифференциал функции в точке (1;1)\n",
    "$$z=\\sqrt{2xy + \\cos{\\frac{x}{y}}}$$"
   ]
  },
  {
   "cell_type": "markdown",
   "metadata": {},
   "source": [
    "$\n",
    "\\begin{cases}\n",
    "\\frac{\\partial z}{\\partial x} = \\frac{1}{2\\sqrt{2xy + \\cos{\\frac{x}{y}}}}(2y + \\frac{1}{y}\\sin{\\frac{x}{y}}) \\\\\n",
    "\\frac{\\partial z}{\\partial y} = \\frac{1}{2\\sqrt{2xy + \\cos{\\frac{x}{y}}}}(2x - \\frac{x}{y^2}\\sin{\\frac{x}{y}})\n",
    "\\end{cases}\n",
    "$\n",
    "\n",
    "$\n",
    "dz(1, 1) = \\frac{2 + \\sin{1}}{2\\sqrt{2 + \\cos{1}}} + \\frac{2 - \\sin{1}}{2\\sqrt{2 + \\cos{1}}}=\\frac{1}{\\sqrt{2 + \\cos{1}}}\n",
    "$"
   ]
  },
  {
   "cell_type": "markdown",
   "metadata": {},
   "source": [
    "### Задание №4\n",
    "Исследовать на экстремум функцию\n",
    "$$z=x^{2}+x y+y^{2}-6 x-9 y$$"
   ]
  },
  {
   "cell_type": "markdown",
   "metadata": {},
   "source": [
    "$\\displaystyle{\\frac{\\partial z}{\\partial x} = 2\\cdot x + y -6;\\; \\frac{\\partial z}{\\partial y} = x + 2\\cdot y -9}$\n",
    "\n",
    "$\\displaystyle{\\left\\{\\begin{array}[c]{ll}2\\cdot x+y-6 = 0\\\\x + 2\\cdot y -9=0 \\end{array}\\right.}$\n",
    "\n",
    "$\\displaystyle{x = (-2)\\cdot y+9\\; =>\\; (-3)\\cdot y+12 = 0\\; =>\\; y = 4\\; =>\\; x = 1}\\; =>\\; M_1(1;4)$\n",
    "\n",
    "$\\displaystyle{\\frac{\\partial^2 z}{\\partial x \\partial y} = 1;\\; \\frac{\\partial^2 z}{\\partial x^2} = 2;\\;\\frac{\\partial^2 z}{\\partial y^2} = 2}$\n",
    "\n",
    "$\\displaystyle{A = \\frac{\\partial^2 z}{\\partial x^2(1;4)} = 2;\\; B = \\frac{\\partial^2 z}{\\partial x \\partial y (1;4)} = 1;\\; C = \\frac{\\partial^2 z}{\\partial y^2(1;4)} = 2 }$\n",
    "\n",
    "$\\displaystyle{A\\cdot C - B^2 = 3 > 0;\\; A > 0 => z_{min} = 1^2 + 1\\cdot 4 + 4^2 -6\\cdot 1 - 9\\cdot 4 = -21 }$"
   ]
  },
  {
   "cell_type": "code",
   "execution_count": null,
   "metadata": {},
   "outputs": [],
   "source": []
  }
 ],
 "metadata": {
  "kernelspec": {
   "display_name": "Python 3",
   "language": "python",
   "name": "python3"
  },
  "language_info": {
   "codemirror_mode": {
    "name": "ipython",
    "version": 3
   },
   "file_extension": ".py",
   "mimetype": "text/x-python",
   "name": "python",
   "nbconvert_exporter": "python",
   "pygments_lexer": "ipython3",
   "version": "3.8.3"
  }
 },
 "nbformat": 4,
 "nbformat_minor": 4
}
