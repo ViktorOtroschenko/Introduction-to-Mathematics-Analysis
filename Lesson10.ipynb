{
 "cells": [
  {
   "cell_type": "markdown",
   "metadata": {},
   "source": [
    "## Тема 7 “Ряды”"
   ]
  },
  {
   "cell_type": "markdown",
   "metadata": {},
   "source": [
    "### Задание №1\n",
    "Исследовать ряд на сходимость, используя признак д’Аламбера:"
   ]
  },
  {
   "cell_type": "markdown",
   "metadata": {},
   "source": [
    "$\\displaystyle \\sum_{n=1}^{\\infty} \\frac{n^n}{(n!)^2}$\n",
    "\n",
    "$\\displaystyle \\lim_{n \\to \\infty} \\frac{a_{n + 1}}{a_n} = \\displaystyle \\lim_{n \\to \\infty} \\frac{(n + 1)^{n + 1}}{((n + 1)!)^2} : \\frac{n^n}{(n!)^2} = \\displaystyle \\lim_{n \\to \\infty} \\frac{(n +1)^{n + 1}}{(n + 1)^2 \\cdot n^n} = \\displaystyle \\lim_{n \\to \\infty} \\frac{\\left (\\frac{n +1}{n}\\right)^n}{n + 1} = \\displaystyle \\lim_{n \\to \\infty} \\frac{e}{n + 1} = 0 < 1$\n",
    "\n",
    "Ряд сходится по признаку д’Аламбера."
   ]
  },
  {
   "cell_type": "markdown",
   "metadata": {},
   "source": [
    "### Задание №2\n",
    "Исследовать ряд на сходимость, используя радикальный признак Коши:"
   ]
  },
  {
   "cell_type": "markdown",
   "metadata": {},
   "source": [
    "$\\displaystyle \\sum_{n=1}^{\\infty} \\frac{n}{2^n}$\n",
    "\n",
    "$\\displaystyle \\lim_{n \\to \\infty} \\sqrt[n]{a_n} = \\displaystyle \\lim_{n \\to \\infty} \\sqrt[n]{\\frac{n}{2^n}} =\\displaystyle \\lim_{n \\to \\infty} \\frac{\\sqrt[n]{n}}{2} = \\frac{1}{2} < 1$\n",
    "\n",
    "По радикальному признаку Коши ряд расходится."
   ]
  },
  {
   "cell_type": "markdown",
   "metadata": {},
   "source": [
    "### Задание №3\n",
    "Исследовать ряд на сходимость, используя признак Лейбница:"
   ]
  },
  {
   "cell_type": "markdown",
   "metadata": {},
   "source": [
    "$\\displaystyle \\sum_{n=1}^{\\infty} \\frac{(-1)^n}{n + \\ln{n}}$\n",
    "\n",
    "$\\left.\\begin{array}{l}{\\frac{1}{n+\\ln n}>\\frac{1}{n+1+\\ln (n+1)}\\Leftrightarrow \\left|a_{n}\\right| > \\left|a_{n+1}\\right|} \\\\ {\\lim _{n \\rightarrow \\infty} a_{n}=\\lim _{n \\rightarrow \\infty} \\frac{(-1)^{n}}{n+\\ln n}=0}\\end{array}\\right\\} \\Rightarrow $\n",
    "\n",
    "Ряд сходится по признаку Лейбница."
   ]
  },
  {
   "cell_type": "markdown",
   "metadata": {},
   "source": [
    "### Задание №4\n",
    "Исследовать ряд на сходимость, используя признак Раабе:"
   ]
  },
  {
   "cell_type": "markdown",
   "metadata": {},
   "source": [
    "$\\displaystyle \\sum_{n=1}^{\\infty} \\frac{3^n}{2^n}$\n",
    "\n",
    "$\\displaystyle \\lim_{n \\to \\infty} n \\left( \\frac{a_n}{a_{n + 1}} - 1 \\right) = \\displaystyle \\lim_{n \\to \\infty} n \\left( \\frac{3^n}{2^n} : \\frac{3^{n + 1}}{2^{n + 1}} - 1 \\right) = \\displaystyle \\lim_{n \\to \\infty} n \\left( - \\frac{1}{3} \\right) = -\\infty < 1$\n",
    "$\\displaystyle \\lim_{n \\to \\infty} \\frac{a_{n + 1}}{a_n} = \\displaystyle \\lim_{n \\to \\infty} \\frac{3^{n + 1}}{2^{n + 1}} : \\frac{3^n}{2^n} = \\frac{3}{2} > 1$\n",
    "\n",
    "Pяд сходится по признаку Раабе в предельной форме."
   ]
  },
  {
   "cell_type": "markdown",
   "metadata": {},
   "source": [
    "### Задание №5\n",
    "Разложить функцию по Тейлору в единице:"
   ]
  },
  {
   "cell_type": "markdown",
   "metadata": {},
   "source": [
    "$f(x) = \\ln{(16x^2)}$\n",
    "\n",
    "$\\ln{(16x^2)} = \\frac{\\ln{16}}{0!}(x - 1)^0 + \\frac{2}{1!}(x - 2)^1 - \\frac{2}{2!}(x - 1)^2 + \\frac{2 \\cdot 2}{3!}(x - 1)^3 - \\frac{2 \\cdot 3!}{4!}(x - 1)^4 +\\cdots = \\ln{16} + 2 \\displaystyle \\sum_{n=1}^{\\infty} (-1)^{n - 1} \\frac{(x - 1)^n}{n}$\n",
    "\n",
    "$(\\ln{(16x^2)})' = \\frac{2}{x}$\n",
    "$(\\ln{(16x^2)})'' = - \\frac{2}{x^2}$\n",
    "$(\\ln{(16x^2)})''' = \\frac{2 \\cdot 2}{x^3}$\n",
    "$(\\ln{(16x^2)})^{IV} = - \\frac{2 \\cdot 2 \\cdot 3}{x^4}$"
   ]
  },
  {
   "cell_type": "markdown",
   "metadata": {},
   "source": [
    "### Задание №6\n",
    "Дана функция:\n",
    "$f(x) = x^2$"
   ]
  },
  {
   "cell_type": "markdown",
   "metadata": {},
   "source": [
    "\n",
    "$\\displaystyle f(x) = \\frac{a_0}{2} + \\sum_{i=1}^{\\infty} a_n \\cos \\frac{\\pi n x}{T}$ на интервале от $0$ до $T$, где $T< 2\\pi$\n",
    "\n",
    "$\\displaystyle a_0 = \\frac{2}{T} \\int_0^{T} f(x) dx = \\frac{2}{2} \\int_{0}^{2} x^2 dx = \\left.\\frac{x^3}{3}\\right|_0^2 = \\frac{8}{3}$\n",
    "\n",
    "$\\displaystyle a_n = \\frac{2}{T} \\int_0^{T} f(x) \\cos\\frac{\\pi n x}{T} dx = \\int_{0}^{2} x^2 \\cos\\frac{\\pi n x}{2} dx$\n",
    "\n",
    "$\\displaystyle \\int x^2 \\cos\\frac{\\pi n x}{2} dx = \\frac{2}{\\pi n} \\int x^2 d\\sin\\frac{\\pi n x}{2} = \\frac{2}{\\pi n} \\left(x^2 \\sin\\frac{\\pi n x}{2} - \\int \\sin\\frac{\\pi n x}{2} dx^2\\right) = \\frac{2}{\\pi n} \\left(x^2 \\sin\\frac{\\pi n x}{2} + \\frac{4}{\\pi n} \\int x d\\cos\\frac{\\pi n x}{2} \\right) =$ $= \\frac{2}{\\pi n} \\left(x^2 \\sin\\frac{\\pi n x}{2} + \\frac{4}{\\pi n} \\left( x\\cos\\frac{\\pi n x}{2} - \\int\\cos\\frac{\\pi n x}{2}dx\\right)\\right) = \\frac{2}{\\pi n} \\left(x^2 \\sin\\frac{\\pi n x}{2} + \\frac{4}{\\pi n} \\left( x\\cos\\frac{\\pi n x}{2} - \\frac{2}{\\pi n}\\sin\\frac{\\pi n x}{2}\\right)\\right) =$ $= \\frac{2}{\\pi n} x^2 \\sin\\frac{\\pi n x}{2} + \\frac{8}{\\pi^2 n^2}  x\\cos\\frac{\\pi n x}{2} - \\frac{16}{\\pi^3 n^3}\\sin\\frac{\\pi n x}{2}$\n",
    "\n",
    "$\\displaystyle a_n = \\left.\\left(\\frac{2}{\\pi n} x^2 \\sin\\frac{\\pi n x}{2} + \\frac{8}{\\pi^2 n^2}  x\\cos\\frac{\\pi n x}{2} - \\frac{16}{\\pi^3 n^3}\\sin\\frac{\\pi n x}{2}\\right)\\right|_{0}^{2} = \\frac{8}{\\pi n} \\sin\\pi n + \\frac{16}{\\pi^2 n^2}  \\cos\\pi n - \\frac{16}{\\pi^3 n^3}\\sin\\pi n - 0 - 0 + \\frac{16}{\\pi^3 n^3}\\sin0 =$ $= \\frac{16}{\\pi^2 n^2}  \\cos\\pi n = \\frac{16}{\\pi^2 n^2}  (-1)^n$\n",
    "\n",
    "$f(x) = \\frac{4}{3} + \\sum_{i=1}^{\\infty}  (-1)^n \\frac{16}{\\pi^2 n^2} \\cos \\frac{\\pi n x}{2}$"
   ]
  },
  {
   "cell_type": "markdown",
   "metadata": {},
   "source": [
    "## Тема 8 “Понятие об интеграле”"
   ]
  },
  {
   "cell_type": "markdown",
   "metadata": {},
   "source": [
    "### Задание №1\n",
    "Найти неопределенный интеграл:\n",
    "$\\int\\left(2 x^{2}-2 x-1+\\sin x-\\cos x+\\ln x+e^{x}\\right) d x$"
   ]
  },
  {
   "cell_type": "markdown",
   "metadata": {},
   "source": [
    "$\\int\\left(2 x^{2}-2 x-1+\\sin x-\\cos x+\\ln x+e^{x}\\right) d x = \\frac{2}{3} x^3 - x^2 - x - \\cos x - \\sin x + x\\ln x - x + e^x + C =$\n",
    "$ = \\frac{2}{3} x^3 - x^2 - 2x - \\cos x - \\sin x + x\\ln x + e^x + C$"
   ]
  },
  {
   "cell_type": "markdown",
   "metadata": {},
   "source": [
    "### Задание №2\n",
    "Найти неопределенный интеграл:\n",
    "$\\int\\left(2 x+6 x z^{2}-5 x^{2} y-3 \\ln z\\right) d x$"
   ]
  },
  {
   "cell_type": "markdown",
   "metadata": {},
   "source": [
    "$\\int\\left(2 x+6 x z^{2}-5 x^{2} y-3 \\ln z\\right) d x = x^2 + 3x^2 z^2 - \\frac{5}{3} x^3 y - 3 x \\ln z + C$"
   ]
  },
  {
   "cell_type": "markdown",
   "metadata": {},
   "source": [
    "### Задание №3\n",
    "Вычислить определенный интеграл:\n",
    "$\\int_{0}^{\\pi} 3 x^{2} \\sin (2 x) d x$"
   ]
  },
  {
   "cell_type": "markdown",
   "metadata": {},
   "source": [
    "$\\int 3 x^{2} \\sin (2 x) d x = - \\frac{3}{2}\\int x^{2} d \\cos (2 x) = - \\frac{3}{2} x^{2} \\cos (2 x) + \\frac{3}{2}\\int (x^{2})' \\cos (2 x) dx = - \\frac{3}{2} x^{2} \\cos (2 x) + \\frac{3}{2} \\int x d \\sin (2 x) =$\n",
    "\n",
    "$ = - \\frac{3}{2} x^{2} \\cos (2 x) + \\frac{3}{2} x \\sin (2 x) - \\frac{3}{2} \\int \\sin (2 x) dx  = - \\frac{3}{2} x^{2} \\cos (2 x) + \\frac{3}{2} x \\sin (2 x) + \\frac{3}{4} \\cos (2 x) + C$\n",
    "\n",
    "$\\int_{0}^{\\pi} 3 x^{2} \\sin (2 x) d x = - \\frac{3}{2} \\pi^{2} \\cos 2 \\pi + \\frac{3}{2} \\pi \\sin 2 \\pi + \\frac{3}{4} \\cos 2 \\pi + \\frac{3}{2} 0^{2} \\cos 0 - \\frac{3}{2} 0 \\sin 0 - \\frac{3}{4} \\cos 0 = $\n",
    "\n",
    "$ = - \\frac{3\\pi^2}{2} + \\frac{3}{4} - \\frac{3}{4} = - \\frac{3\\pi^2}{2}$"
   ]
  },
  {
   "cell_type": "markdown",
   "metadata": {},
   "source": [
    "### Задание №4\n",
    "Найти неопределенный интеграл:\n",
    "$\\int \\frac{1}{\\sqrt{x+1}} d x$"
   ]
  },
  {
   "cell_type": "markdown",
   "metadata": {},
   "source": [
    "$x + 1 > 0$:\n",
    "\n",
    "$\\int \\frac{1}{\\sqrt{x+1}} d x=\\int \\frac{1}{\\sqrt{x+1}} d(x+1)=\\int \\frac{1}{\\sqrt{x+1}} d \\sqrt{x+1} ^2=\\int \\frac{1}{\\sqrt{x+1}} 2 \\sqrt{x+1} d \\sqrt{x+1}=\\int 2 d \\sqrt{x+1}=2 \\sqrt{x+1}+C$"
   ]
  },
  {
   "cell_type": "code",
   "execution_count": null,
   "metadata": {},
   "outputs": [],
   "source": []
  }
 ],
 "metadata": {
  "kernelspec": {
   "display_name": "Python 3",
   "language": "python",
   "name": "python3"
  },
  "language_info": {
   "codemirror_mode": {
    "name": "ipython",
    "version": 3
   },
   "file_extension": ".py",
   "mimetype": "text/x-python",
   "name": "python",
   "nbconvert_exporter": "python",
   "pygments_lexer": "ipython3",
   "version": "3.8.3"
  },
  "widgets": {
   "application/vnd.jupyter.widget-state+json": {
    "state": {},
    "version_major": 2,
    "version_minor": 0
   }
  }
 },
 "nbformat": 4,
 "nbformat_minor": 4
}
