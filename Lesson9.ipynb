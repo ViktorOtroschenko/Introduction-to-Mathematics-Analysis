{
 "cells": [
  {
   "cell_type": "markdown",
   "metadata": {},
   "source": [
    "## Функция нескольких переменных \n",
    "(Часть 2)\n",
    "\n",
    "### Исследовать функцию на условный экстремум"
   ]
  },
  {
   "cell_type": "markdown",
   "metadata": {},
   "source": [
    "### Задание №1\n",
    "$U = 3 -8x + 6y$, если $x^2 + y^2 = 36$"
   ]
  },
  {
   "cell_type": "markdown",
   "metadata": {},
   "source": [
    "$L(\\lambda_1, x, y) = 3 - 8x + 6y + \\lambda_1 \\cdot (x^2 + y^2 - 36)$\n",
    "\n",
    "$\\begin{cases}\n",
    "  L'_x = -8 + \\lambda_1 \\cdot 2x = 0\\\\\n",
    "  L'_y = 6 + \\lambda_1 \\cdot 2y = 0\\\\\n",
    "  L'_{\\lambda_1} = x^2 + y^2 - 36\n",
    "\\end{cases}$\n",
    "\n",
    "$\\begin{cases}\n",
    "    x = \\frac{4}{\\lambda_1} \\\\\n",
    "    y = -\\frac{3}{\\lambda_1} \\\\\n",
    "    \\frac{16}{\\lambda_1^2} + \\frac{9}{\\lambda_1^2} = 36\n",
    "\\end{cases}$\n",
    "\n",
    "$\\begin{cases}\n",
    "  x = \\frac{4}{\\lambda_1} \\\\\n",
    "  y = -\\frac{3}{\\lambda_1} \\\\\n",
    "  \\lambda_1 = \\pm \\frac{5}{6}\n",
    "\\end{cases}$\n",
    "\n",
    "$\\left(\\frac{5}{6}, \\frac{24}{5}, -\\frac{18}{5}\\right), \\left(-\\frac{5}{6}, -\\frac{24}{5}, \\frac{18}{5}\\right)$\n",
    "\n",
    "$L''_{xx} = 2\\lambda_1$\n",
    "\n",
    "$L''_{yy} = 2\\lambda_1$\n",
    "\n",
    "$L''_{\\lambda_1\\lambda_1} = 0$\n",
    "\n",
    "$L''_{xy} = 0$\n",
    "\n",
    "$L''_{x\\lambda_1} = 2x$\n",
    "\n",
    "$L''_{y\\lambda_1} = 2y$\n",
    "\n",
    "$\\begin{pmatrix}\n",
    "    L''_{\\lambda_1\\lambda_1} &amp; L''_{\\lambda_1 x} &amp; L''_{\\lambda_1 y} \\\\\\,\n",
    "    L''_{x \\lambda_1} &amp; L''_{xx} &amp; L''_{xy} \\\\\\,\n",
    "    L''_{y \\lambda_1} &amp; L''{yx} &amp; L''{yy}\n",
    "    \\end{pmatrix} =\n",
    "    \\begin{pmatrix}\n",
    "    0 &amp; 2x &amp; 2y\\\\\\,\n",
    "    2x &amp; 2\\lambda_1 &amp; 0\\\\\\,\n",
    "    2y &amp; 0 &amp; 2\\lambda_1\\,\n",
    "    \\end{pmatrix} = -8 \\lambda_1(x^2+y^2)$\n",
    "    \n",
    "$\\left(\\frac{5}{6}, \\frac{24}{5}, -\\frac{18}{5}\\right),\\Delta_1 = -240, \\Delta_1 < 0  \\implies \\text{точка минимума}$\n",
    "\n",
    "$\\left(-\\frac{5}{6}, -\\frac{24}{5}, \\frac{18}{5}\\right), \\Delta_2 = 240, \\Delta_2 > 0  \\implies \\text{точка максимума}$"
   ]
  },
  {
   "cell_type": "markdown",
   "metadata": {},
   "source": [
    "### Задание №2\n",
    "$U =2x^2 + 12xy +32y^2 + 15$, если $x^2 + 16y^2 =64$"
   ]
  },
  {
   "cell_type": "markdown",
   "metadata": {},
   "source": [
    "$L(\\lambda_1, x, y) = 2x^2 + 12xy +32y^2 + 15 + \\lambda_1 \\cdot (x^2 + 16y^2  - 64)$\n",
    "\n",
    "$\\begin{cases}\n",
    "  L'_x = 4x + 12y + 2x \\lambda_1 = 0 \\\\\n",
    "  L'_y = 12x + 64y + 32y\\lambda_1 = 0 \\\\\n",
    "  L'_{\\lambda_1} = x^2 + 16y^2  - 64 = 0\n",
    "\\end{cases}$\n",
    "\n",
    "$\\begin{cases}\n",
    "    \\lambda_1 = - \\frac{2x + 6y}{x} \\\\\n",
    "    \\lambda_1 = - \\frac{3x + 16y}{8y} \\\\\n",
    "    x^2 +16y^2 = 64\n",
    "\\end{cases}$\n",
    "\n",
    "$\\begin{cases}\n",
    "    \\lambda_1 = - \\frac{2x + 6y}{x} \\\\\n",
    "    16xy +48y^2 = 3x^2 + 16xy \\\\\n",
    "    x^2 +16y^2 = 64\n",
    "\\end{cases}$\n",
    "\n",
    "$\\begin{cases}\n",
    "    \\lambda_1 = - \\frac{2x + 6y}{x} \\\\\n",
    "    16y^2 = x^2 \\\\\n",
    "    x^2 + x^2 = 64\n",
    "\\end{cases}$\n",
    "\n",
    "$\\begin{array}{|l}\n",
    "    \\left(- \\frac{7}{2}, 4\\sqrt{2}, \\sqrt{2} \\right) \\\\\n",
    "    \\left(- \\frac{1}{2}, 4\\sqrt{2}, -\\sqrt{2} \\right) \\\\\n",
    "    \\left(- \\frac{1}{2}, -4\\sqrt{2}, \\sqrt{2} \\right) \\\\\n",
    "    \\left(- \\frac{7}{2}, -4\\sqrt{2}, -\\sqrt{2} \\right) \n",
    "\\end{array}$\n",
    "\n",
    "$L''_{xx} = 2\\lambda_1 + 4$\n",
    "\n",
    "$L''_{yy} =32\\lambda_1 + 64$\n",
    "\n",
    "$L''_{\\lambda_1\\lambda_1} = 0$\n",
    "\n",
    "$L''_{xy} = 12$\n",
    "\n",
    "$L''_{x\\lambda_1} = 2x$\n",
    "\n",
    "$L''_{y\\lambda_1} = 32y$\n",
    "\n",
    "$\\begin{pmatrix}\n",
    "    L''_{\\lambda_1\\lambda_1} &amp; L''_{\\lambda_1 x} &amp; L''_{\\lambda_1 y} \\\\\n",
    "    L''_{x \\lambda_1} &amp; L''_{xx} &amp; L''_{xy} \\\\\n",
    "    L''_{y \\lambda_1} &amp; L''{yx} &amp; L''{yy}\n",
    "\\end{pmatrix} =\n",
    "\\begin{pmatrix}\n",
    "  0 &amp; 2x &amp; 32y\\\\\n",
    "  2x &amp; 2\\lambda_1 + 4 &amp; 12\\\\\n",
    "  32y &amp; 12 &amp; 32\\lambda_1 + 64\n",
    "\\end{pmatrix}$\n",
    "\n",
    "$\\begin{vmatrix}\n",
    "  0 &amp; 2x &amp; 32y\\\\\n",
    "  2x &amp; 2\\lambda_1 + 4 &amp; 12\\\\\n",
    "  32y &amp; 12 &amp; 32\\lambda_1 + 64\n",
    "\\end{vmatrix} =$\n",
    "\n",
    "$-128 x^2 \\lambda_1-256x^2 + 1536xy - 2048y^2\\lambda_1 -4096y^2 = -256(x^2 + 16y^2) - 128\\lambda_1(x^2 + 16y^2) + 1536xy = -256 \\cdot 64 - 128\\lambda_1 \\cdot 64 + 1536xy = -16384 - 8192\\lambda_1 + 1536xy$\n",
    "\n",
    "$\\left(- \\frac{7}{2}, 4\\sqrt{2}, \\sqrt{2} \\right),\\Delta_1 = 24576, \\Delta_1 > 0  \\implies \\text{точка максимума}$\n",
    "\n",
    "$\\left(- \\frac{1}{2}, 4\\sqrt{2}, -\\sqrt{2} \\right),\\Delta_1 = -24576, \\Delta_1 < 0  \\implies \\text{точка минимума}$\n",
    "\n",
    "$\\left(- \\frac{1}{2}, -4\\sqrt{2}, \\sqrt{2} \\right),\\Delta_1 = -24576, \\Delta_1 < 0  \\implies \\text{точка минимума}$\n",
    "\n",
    "$\\left(- \\frac{7}{2}, -4\\sqrt{2}, -\\sqrt{2} \\right),\\Delta_1 = 24576, \\Delta_1 > 0  \\implies \\text{точка максимума}$"
   ]
  },
  {
   "cell_type": "markdown",
   "metadata": {},
   "source": [
    "### Задание №3\n",
    "Найти производную функции $U=x^2 + y^2 + z^2$ по направлению вектора $\\stackrel{\\to}{c}(-9, 8, -12)$ в точку M(8, -12, 9)"
   ]
  },
  {
   "cell_type": "markdown",
   "metadata": {},
   "source": [
    "$grad(u)=\\frac{\\partial U}{\\partial x}\\stackrel{\\to}{i} + \\frac{\\partial U}{\\partial y}\\stackrel{\\to}{j} + \\frac{\\partial U}{\\partial z}\\stackrel{\\to}{k}$\n",
    "\n",
    "$grad(u)=2x\\stackrel{\\to}{i} + 2y\\stackrel{\\to}{j} + 2z\\stackrel{\\to}{k}$\n",
    "\n",
    "$|grad U| = \\sqrt{4x^2 + 4y^2 + 5z^2}$\n",
    "\n",
    "$|grad_M U| = \\sqrt{256 + 576 + 324} = \\sqrt{1156} = 34$\n",
    "\n",
    "$cos \\alpha = \\frac{16}{34}; cos \\beta = -\\frac{24}{34}; cos \\gamma = \\frac{18}{34}$\n",
    "\n",
    "$\\frac{\\partial U}{\\partial c}=2xcos \\alpha + 2y cos \\beta + 2z cos \\gamma$\n",
    "\n",
    "$|c| = \\sqrt{81 + 64 + 144} = 17$\n",
    "\n",
    "$cos \\alpha = -\\frac{9}{17}; cos \\beta = \\frac{8}{17}; cos \\gamma = -\\frac{12}{17}$\n",
    "\n",
    "$\\frac{\\partial U}{\\partial c}=-\\frac{16 \\cdot 9}{17} -\\frac{24 \\cdot 8}{17} - \\frac{18 \\cdot 12}{17} = -\\frac{552}{17} < 0$"
   ]
  },
  {
   "cell_type": "markdown",
   "metadata": {},
   "source": [
    "### Задание №4\n",
    "Найти производную функции $U=e^{x^{2}+y^{2}+z^{2}}$ по направлению вектора $\\vec{d}=(4,-13,-16)$ в точку $L(-16 ; 4 ;-13)$"
   ]
  },
  {
   "cell_type": "markdown",
   "metadata": {},
   "source": [
    "$grad U=2e^{x^2 + y^2 + z^2}(x\\stackrel{\\to}{i} + y\\stackrel{\\to}{j} + z\\stackrel{\\to}{k})$\n",
    "\n",
    "$|grad U|=\\sqrt{4e^{(x^2 + y^2 + z^2)^2}(x^2\\stackrel{\\to}{i} + y^2\\stackrel{\\to}{j} + z^2\\stackrel{\\to}{k})}$\n",
    "\n",
    "$|grad_L U|=42e^{441}$\n",
    "\n",
    "$\\frac{\\partial U}{\\partial c}=2xe^{x^2 + y^2 + z^2}cos \\alpha + 2ye^{x^2 + y^2 + z^2}cos \\beta + 2ze^{x^2 + y^2 + z^2}cos \\gamma$\n",
    "\n",
    "$|d|=21$\n",
    "\n",
    "$cos\\alpha=\\frac{4}{21}; cos\\beta=-\\frac{13}{21}; cos\\gamma=-\\frac{16}{21}$\n",
    "\n",
    "$\\frac{\\partial U}{\\partial c}=2xe^{x^2 + y^2 + z^2}\\frac{4}{21} - 2ye^{x^2 + y^2 + z^2}\\frac{13}{21} - 2ze^{x^2 + y^2 + z^2}\\frac{16}{21}$"
   ]
  },
  {
   "cell_type": "code",
   "execution_count": 1,
   "metadata": {},
   "outputs": [
    {
     "data": {
      "text/plain": [
       "2.9272852714734396e+192"
      ]
     },
     "execution_count": 1,
     "metadata": {},
     "output_type": "execute_result"
    }
   ],
   "source": [
    "import math\n",
    "\n",
    "x = -16\n",
    "y = 4\n",
    "z = -13\n",
    "\n",
    "2*x*(math.e**(x**2 + y**2 + z**2))*4/21 - 2*y*(math.e**(x**2 + y**2 + z**2))*13/21 - 2*z*(math.e**(x**2 + y**2 + z**2))*16/21"
   ]
  },
  {
   "cell_type": "code",
   "execution_count": null,
   "metadata": {},
   "outputs": [],
   "source": []
  }
 ],
 "metadata": {
  "kernelspec": {
   "display_name": "Python 3",
   "language": "python",
   "name": "python3"
  },
  "language_info": {
   "codemirror_mode": {
    "name": "ipython",
    "version": 3
   },
   "file_extension": ".py",
   "mimetype": "text/x-python",
   "name": "python",
   "nbconvert_exporter": "python",
   "pygments_lexer": "ipython3",
   "version": "3.8.3"
  }
 },
 "nbformat": 4,
 "nbformat_minor": 4
}
