{
 "cells": [
  {
   "cell_type": "markdown",
   "metadata": {},
   "source": [
    "## Тема “Введение в математических анализ”"
   ]
  },
  {
   "cell_type": "markdown",
   "metadata": {},
   "source": [
    "### Задание №1\n",
    "Как относятся друг к другу множество и последовательность? (в ответе использовать слова типа: часть, целое, общее, частное, родитель, дочерний субъект и т.д.)"
   ]
  },
  {
   "cell_type": "markdown",
   "metadata": {},
   "source": [
    "Множество — это совокупность, собрание каких-либо объектов и обладают общими для всех их характеристическим свойством.\n",
    "Последовательность — набор элементов некоторого множества. \n",
    "т.е. последовательность это дочерний субъект по отношению к множеству"
   ]
  },
  {
   "cell_type": "markdown",
   "metadata": {},
   "source": [
    "### Задание №2\n",
    "Прочитать высказывания математической логики, построить их отрицания и установить истинность."
   ]
  },
  {
   "cell_type": "markdown",
   "metadata": {},
   "source": [
    "1. $\\forall y \\in [0;1]:sgn(y)=1$ Для любых y из интервала [0; 1] функция sgn(y) равна 1 \n",
    "   $$\\exists x \\in [0; 1] : sgn(x) \\neq 1 $$\n",
    "   (Высказывание ложно)\n",
    "\n",
    "2. $\\forall n \\in \\mathbb {N} >: 2 : \\exists x, y, z \\in \\mathbb {N}: x^n = y^n + z^n$ Для любого n больше 2, принадлежащего множеству натуральных чисел, существуют x, y, z, принадлежащие множеству натуральных чисел, для которых выполняется раветство $x^n = y^n + z^n$.\n",
    "$$\\exists n \\in N >: 2 : \\forall x, y, z \\in N : x^n \\neq y^n + z^n $$\n",
    "   (Высказывание ложно)\n",
    "\n",
    "3. $\\forall x \\in \\mathbb {R} \\exists X \\in \\mathbb {R} :X > x$ Для любого действительного х найдется действительное Х, большее, чем х. \n",
    "$$\\exists x \\in R\\forall X \\in R : X < x$$\n",
    "   (Высказывание истинно)\n",
    "\n",
    "4. $\\forall x \\in \\mathbb {C} \\nexists y \\in \\mathbb {C} : x > y \\parallel x < y$ Для любого x из множества комплексных чисел не существует комплексного y, такого, что x > y или x < y \n",
    "$$\\exists x, y \\in C : x < y \\| x > y$$\n",
    "   (Высказывание истинно)\n",
    "\n",
    "5. $\\forall y \\in [0; \\frac {\\pi} {2}] \\exists \\epsilon > 0: \\sin{y} < \\sin{(y + \\epsilon)}$ Для любого y, принадлежащего интервалу от 0 до $\\frac{\\pi}{2}$ включительно, существует $\\epsilon$ больше 0, для которого выполняется неравенство $\\sin{y}$ < $\\sin{(y + \\epsilon)}$. \n",
    "$$\\exists y \\in [0; \\frac{\\pi}{2}] \\forall \\epsilon > 0 : sin y > sin (y + \\epsilon)$$\n",
    "   (Высказывание ложно)\n",
    "\n",
    "6. $\\forall y \\in [0; \\pi) \\exists \\epsilon > 0: \\cos{y} > \\cos{(y + \\epsilon)}$ Для любого $y$ из интервала $[0; \\pi)$ существует $\\epsilon$ такое, что  $\\cos{y}$ > $\\cos{(y + \\epsilon)}$ \n",
    "$$\\exists y \\in [0; \\pi) \\forall \\epsilon > 0 : cos y < cos (y + \\epsilon)$$\n",
    "   (Высказывание истинно)\n",
    "\n",
    "7. $\\exists x : x \\notin \\{ N, Z, Q, R, C\\}$ Существует x: такое, что оно не входит во множества целых, рациональных, вещественных и комплексных чисел. \n",
    "$$\\forall x : x \\in \\{N, Z, Q, R, C\\}$$\n",
    "   (Высказывание истинно)"
   ]
  },
  {
   "cell_type": "markdown",
   "metadata": {},
   "source": [
    "## Тема “Множество”"
   ]
  },
  {
   "cell_type": "markdown",
   "metadata": {},
   "source": [
    "### Задание №1\n",
    "Даны три множества a,b и с. Необходимо выполнить все изученные виды бинарных операций над всеми комбинациями множеств."
   ]
  },
  {
   "cell_type": "markdown",
   "metadata": {},
   "source": [
    "a = {1, 2, 3}\n",
    "\n",
    "b = {5, 3, 8}\n",
    "\n",
    "c = {7, 5, 2}\n",
    "\n",
    "a | b = {1, 2, 3, 5, 8}\n",
    "\n",
    "a | c = {1, 2, 3, 5, 7}\n",
    "\n",
    "c | b = {2, 3, 5, 7}\n",
    "\n",
    "a & b = {3}\n",
    "\n",
    "a & c = {2}\n",
    "\n",
    "b & c = {5}\n",
    "\n",
    "a ^ b = {1, 2, 5, 8}\n",
    "\n",
    "a ^ c = {1, 3, 5, 7}\n",
    "\n",
    "b ^ c = {2, 3, 7, 8}"
   ]
  },
  {
   "cell_type": "markdown",
   "metadata": {},
   "source": [
    "### Задание №2\n",
    "*Выполнить задание 1 на языке Python"
   ]
  },
  {
   "cell_type": "code",
   "execution_count": 1,
   "metadata": {},
   "outputs": [],
   "source": [
    "a = {1, 2, 3}\n",
    "b = {5, 3, 8}\n",
    "c = {7, 5, 2}"
   ]
  },
  {
   "cell_type": "code",
   "execution_count": 6,
   "metadata": {},
   "outputs": [
    {
     "name": "stdout",
     "output_type": "stream",
     "text": [
      "Объединение a и b: {1, 2, 3, 5, 8}\n",
      "Объединение a и c: {1, 2, 3, 5, 7}\n",
      "Объединение c и b: {2, 3, 5, 7, 8}\n",
      "Пересечение a и b: {3}\n",
      "Пересечение a и b: {2}\n",
      "Пересечение a и b: {5}\n",
      "Симметрическая разность a и b: {1, 2, 5, 8}\n",
      "Симметрическая разность a и c: {1, 3, 5, 7}\n",
      "Симметрическая разность b и c: {2, 3, 7, 8}\n",
      "Разность a и b: {1, 2}\n",
      "Разность a и c: {1, 3}\n",
      "Разность b и c: {8, 3}\n"
     ]
    }
   ],
   "source": [
    "print(\"Объединение a и b:\", a.union(b))\n",
    "print(\"Объединение a и c:\", a.union(c))\n",
    "print(\"Объединение c и b:\", b.union(c))\n",
    "print(\"Пересечение a и b:\", a.intersection(b))\n",
    "print(\"Пересечение a и b:\", a.intersection(c))\n",
    "print(\"Пересечение a и b:\", b.intersection(c))\n",
    "print(\"Симметрическая разность a и b:\", a.symmetric_difference(b))\n",
    "print(\"Симметрическая разность a и c:\", a.symmetric_difference(c))\n",
    "print(\"Симметрическая разность b и c:\", b.symmetric_difference(c))\n",
    "print(\"Разность a и b:\", a.difference(b))\n",
    "print(\"Разность a и c:\", a.difference(c))\n",
    "print(\"Разность b и c:\", b.difference(c))"
   ]
  },
  {
   "cell_type": "markdown",
   "metadata": {},
   "source": [
    "## Тема “Последовательность”"
   ]
  },
  {
   "cell_type": "markdown",
   "metadata": {},
   "source": [
    "### Задание №1\n",
    "    Даны 4 последовательности. Необходимо:\n",
    "1. Исследовать их на монотонность; \n",
    "2. Исследовать на ограниченность;\n",
    "3. Найти пятый по счету член."
   ]
  },
  {
   "cell_type": "markdown",
   "metadata": {},
   "source": [
    "$$\\{a_{n}\\}_{n=1}^{\\infty}=2^{n}-n$$"
   ]
  },
  {
   "cell_type": "markdown",
   "metadata": {},
   "source": [
    "Монотонность: возрастает \n",
    "\n",
    "Ограниченность: $[1; -\\infty]$"
   ]
  },
  {
   "cell_type": "code",
   "execution_count": 20,
   "metadata": {},
   "outputs": [
    {
     "name": "stdout",
     "output_type": "stream",
     "text": [
      "1 1\n",
      "2 2\n",
      "3 5\n",
      "4 12\n",
      "5 27\n"
     ]
    }
   ],
   "source": [
    "for i in range(1, 6):\n",
    "    a = 2**i - i\n",
    "    print(i, a)"
   ]
  },
  {
   "cell_type": "markdown",
   "metadata": {},
   "source": [
    "$$\\{b_{n}\\}_{n=2}^{\\infty}=\\frac{1}{1-n}$$"
   ]
  },
  {
   "cell_type": "markdown",
   "metadata": {},
   "source": [
    "Монотонность: возрастает \n",
    "\n",
    "Ограниченность: $[-0.5; 0]$"
   ]
  },
  {
   "cell_type": "code",
   "execution_count": 21,
   "metadata": {},
   "outputs": [
    {
     "name": "stdout",
     "output_type": "stream",
     "text": [
      "1 -1.0\n",
      "2 -0.5\n",
      "3 -0.3333333333333333\n",
      "4 -0.25\n",
      "5 -0.2\n"
     ]
    }
   ],
   "source": [
    "n = 1\n",
    "for i in range(2, 7):\n",
    "    b = 1/(1 - i)\n",
    "    print(n, b)\n",
    "    n += 1"
   ]
  },
  {
   "cell_type": "markdown",
   "metadata": {},
   "source": [
    "$$\\{c_{n}\\}_{n=1}^{\\infty}=-1^{n}+\\sqrt{2n}$$"
   ]
  },
  {
   "cell_type": "markdown",
   "metadata": {},
   "source": [
    "Монотонность: возрастает \n",
    "\n",
    "Ограниченность: $ [-\\infty; \\infty] $"
   ]
  },
  {
   "cell_type": "code",
   "execution_count": 10,
   "metadata": {},
   "outputs": [
    {
     "name": "stdout",
     "output_type": "stream",
     "text": [
      "1 0.41421356237309515\n",
      "2 1.0\n",
      "3 1.4494897427831779\n",
      "4 1.8284271247461903\n",
      "5 2.1622776601683795\n"
     ]
    }
   ],
   "source": [
    "for i in range(1, 6):\n",
    "    c = -1**i+(2*i)**0.5\n",
    "    print(i, c)"
   ]
  },
  {
   "cell_type": "markdown",
   "metadata": {},
   "source": [
    "$$\\{d_{n}\\}_{n=1}^{\\infty}=(-1)^{2n}+\\frac{1}{n^{2}}$$"
   ]
  },
  {
   "cell_type": "markdown",
   "metadata": {},
   "source": [
    "Монотонность: убывает\n",
    "\n",
    "Ограниченность: $ [1; 2] $"
   ]
  },
  {
   "cell_type": "code",
   "execution_count": 11,
   "metadata": {},
   "outputs": [
    {
     "name": "stdout",
     "output_type": "stream",
     "text": [
      "1 2.0\n",
      "2 2.25\n",
      "3 3.111111111111111\n",
      "4 4.0625\n",
      "5 5.04\n"
     ]
    }
   ],
   "source": [
    "for i in range(1, 6):\n",
    "    d = ((-1)**2*i)+(1/i**2)\n",
    "    print(i, d)"
   ]
  },
  {
   "cell_type": "markdown",
   "metadata": {},
   "source": [
    "### Задание №2\n",
    "    Найти 12-й член заданной неявно последовательности\n",
    "$$a_{1}=128, a_{n+1}-a_{n}=6$$"
   ]
  },
  {
   "cell_type": "code",
   "execution_count": 22,
   "metadata": {},
   "outputs": [
    {
     "name": "stdout",
     "output_type": "stream",
     "text": [
      "12-й член: 194\n"
     ]
    }
   ],
   "source": [
    "a = 128\n",
    "for i in range(1, 13):\n",
    "    if i == 12:\n",
    "        print(\"12-й член:\", a)\n",
    "    a += 6"
   ]
  }
 ],
 "metadata": {
  "kernelspec": {
   "display_name": "Python 3",
   "language": "python",
   "name": "python3"
  },
  "language_info": {
   "codemirror_mode": {
    "name": "ipython",
    "version": 3
   },
   "file_extension": ".py",
   "mimetype": "text/x-python",
   "name": "python",
   "nbconvert_exporter": "python",
   "pygments_lexer": "ipython3",
   "version": "3.8.3"
  }
 },
 "nbformat": 4,
 "nbformat_minor": 4
}
